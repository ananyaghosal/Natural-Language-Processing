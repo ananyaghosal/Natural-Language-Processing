{
 "cells": [
  {
   "cell_type": "raw",
   "metadata": {},
   "source": [
    "Basic of Bigrams ,Trigrams,Ngrams"
   ]
  },
  {
   "cell_type": "code",
   "execution_count": 3,
   "metadata": {},
   "outputs": [],
   "source": [
    "import nltk"
   ]
  },
  {
   "cell_type": "code",
   "execution_count": 1,
   "metadata": {},
   "outputs": [],
   "source": [
    "from nltk.util import bigrams, trigrams, ngrams"
   ]
  },
  {
   "cell_type": "code",
   "execution_count": 4,
   "metadata": {},
   "outputs": [
    {
     "name": "stdout",
     "output_type": "stream",
     "text": [
      "['The', 'Mona', 'Lisa', 'is', 'a', 'half', 'length', 'portrait', 'painting', 'by', 'the', 'Italian', 'Renaissance', 'artist', 'Leonardo', 'da', 'Vinci']\n"
     ]
    }
   ],
   "source": [
    "string = \"The Mona Lisa is a half length portrait painting by the Italian Renaissance artist Leonardo da Vinci\"\n",
    "mona_lisa_tokens=nltk.word_tokenize(string)\n",
    "print(mona_lisa_tokens)"
   ]
  },
  {
   "cell_type": "code",
   "execution_count": 6,
   "metadata": {},
   "outputs": [
    {
     "name": "stdout",
     "output_type": "stream",
     "text": [
      "[('The', 'Mona'), ('Mona', 'Lisa'), ('Lisa', 'is'), ('is', 'a'), ('a', 'half'), ('half', 'length'), ('length', 'portrait'), ('portrait', 'painting'), ('painting', 'by'), ('by', 'the'), ('the', 'Italian'), ('Italian', 'Renaissance'), ('Renaissance', 'artist'), ('artist', 'Leonardo'), ('Leonardo', 'da'), ('da', 'Vinci')]\n"
     ]
    }
   ],
   "source": [
    "mona_lisa_bigrams=list(nltk.bigrams(mona_lisa_tokens))\n",
    "print(mona_lisa_bigrams)"
   ]
  },
  {
   "cell_type": "code",
   "execution_count": 7,
   "metadata": {},
   "outputs": [
    {
     "name": "stdout",
     "output_type": "stream",
     "text": [
      "[('The', 'Mona', 'Lisa'), ('Mona', 'Lisa', 'is'), ('Lisa', 'is', 'a'), ('is', 'a', 'half'), ('a', 'half', 'length'), ('half', 'length', 'portrait'), ('length', 'portrait', 'painting'), ('portrait', 'painting', 'by'), ('painting', 'by', 'the'), ('by', 'the', 'Italian'), ('the', 'Italian', 'Renaissance'), ('Italian', 'Renaissance', 'artist'), ('Renaissance', 'artist', 'Leonardo'), ('artist', 'Leonardo', 'da'), ('Leonardo', 'da', 'Vinci')]\n"
     ]
    }
   ],
   "source": [
    "mona_lisa_trigrams=list(nltk.trigrams(mona_lisa_tokens))\n",
    "print(mona_lisa_trigrams)"
   ]
  },
  {
   "cell_type": "code",
   "execution_count": 8,
   "metadata": {},
   "outputs": [
    {
     "name": "stdout",
     "output_type": "stream",
     "text": [
      "[('The', 'Mona', 'Lisa', 'is'), ('Mona', 'Lisa', 'is', 'a'), ('Lisa', 'is', 'a', 'half'), ('is', 'a', 'half', 'length'), ('a', 'half', 'length', 'portrait'), ('half', 'length', 'portrait', 'painting'), ('length', 'portrait', 'painting', 'by'), ('portrait', 'painting', 'by', 'the'), ('painting', 'by', 'the', 'Italian'), ('by', 'the', 'Italian', 'Renaissance'), ('the', 'Italian', 'Renaissance', 'artist'), ('Italian', 'Renaissance', 'artist', 'Leonardo'), ('Renaissance', 'artist', 'Leonardo', 'da'), ('artist', 'Leonardo', 'da', 'Vinci')]\n"
     ]
    }
   ],
   "source": [
    "mona_lisa_ngrams=list(nltk.ngrams(mona_lisa_tokens, 4))\n",
    "print(mona_lisa_ngrams)"
   ]
  },
  {
   "cell_type": "code",
   "execution_count": null,
   "metadata": {},
   "outputs": [],
   "source": []
  },
  {
   "cell_type": "code",
   "execution_count": null,
   "metadata": {},
   "outputs": [],
   "source": []
  }
 ],
 "metadata": {
  "kernelspec": {
   "display_name": "Python 3",
   "language": "python",
   "name": "python3"
  },
  "language_info": {
   "codemirror_mode": {
    "name": "ipython",
    "version": 3
   },
   "file_extension": ".py",
   "mimetype": "text/x-python",
   "name": "python",
   "nbconvert_exporter": "python",
   "pygments_lexer": "ipython3",
   "version": "3.7.3"
  }
 },
 "nbformat": 4,
 "nbformat_minor": 2
}
